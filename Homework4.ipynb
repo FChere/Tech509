{
 "cells": [
  {
   "cell_type": "code",
   "execution_count": 1,
   "metadata": {},
   "outputs": [
    {
     "name": "stdout",
     "output_type": "stream",
     "text": [
      "......................\n",
      "......##########......\n",
      "......#~~~~~~~~#......\n",
      "......#~~~~~~~~#......\n",
      "......#~~~~~~~~#####..\n",
      "....###~~~~~~~~~~~~#..\n",
      "....#~~~~~~~~~~~~###..\n",
      "....##############....\n"
     ]
    }
   ],
   "source": [
    "from typing import List\n",
    "\n",
    "board = [\n",
    "    \"......................\",\n",
    "    \"......##########......\",\n",
    "    \"......#........#......\",\n",
    "    \"......#........#......\",\n",
    "    \"......#........#####..\",\n",
    "    \"....###............#..\",\n",
    "    \"....#............###..\",\n",
    "    \"....##############....\",\n",
    "]\n",
    "\n",
    "\n",
    "def flood_fill(input_board: List[str], old: str, new: str, x: int, y: int) -> List[str]:\n",
    "    \"\"\"Returns board with old values replaced with new values\n",
    "    through flood filling starting from the coordinates x, y\n",
    "    Args:\n",
    "        input_board (List[str])\n",
    "        old (str): Value to be replaced\n",
    "        new (str): Value that replaces the old\n",
    "        x (int): X-coordinate of the flood start point\n",
    "        y (int): Y-coordinate of the flood start point\n",
    "    Returns:\n",
    "        List[str]: Modified board\n",
    "    \"\"\"\n",
    "    \n",
    " # Implement your code here.\n",
    "    \n",
    "    if (\n",
    "        board[x][y] != old or\n",
    "        0 > x > len(input_board[x]) or \n",
    "        0 > y > len(input_board)\n",
    "        ):  #checks if the selected pixel does not equal old or if it is outside the image's bounds\n",
    "        return input_board #returns board\n",
    "    \n",
    "    #turns row string into list, replaces old with new, then replaces that row\n",
    "    row = list(input_board[x])\n",
    "    row[y] = new\n",
    "    input_board[x] = ''.join(row)\n",
    "    \n",
    "    flood_fill(input_board, old, new, x + 1, y) #down\n",
    "    flood_fill(input_board, old, new, x - 1, y) #up\n",
    "    flood_fill(input_board, old, new, x, y + 1) #right\n",
    "    flood_fill(input_board, old, new, x, y - 1) #left\n",
    "    \n",
    "\n",
    "\n",
    "\n",
    "modified_board = flood_fill(input_board=board, old=\".\", new=\"~\", x=5, y=12)\n",
    "\n",
    "for a in board:\n",
    "    print(a)\n",
    "\n",
    "\n",
    "# Expected output:\n",
    "# ......................\n",
    "# ......##########......\n",
    "# ......#~~~~~~~~#......\n",
    "# ......#~~~~~~~~#......\n",
    "# ......#~~~~~~~~#####..\n",
    "# ....###~~~~~~~~~~~~#..\n",
    "# ....#~~~~~~~~~~~~###..\n",
    "# ....##############...."
   ]
  },
  {
   "cell_type": "code",
   "execution_count": null,
   "metadata": {},
   "outputs": [],
   "source": []
  }
 ],
 "metadata": {
  "kernelspec": {
   "display_name": "Python 3.8.3 ('base')",
   "language": "python",
   "name": "python3"
  },
  "language_info": {
   "codemirror_mode": {
    "name": "ipython",
    "version": 3
   },
   "file_extension": ".py",
   "mimetype": "text/x-python",
   "name": "python",
   "nbconvert_exporter": "python",
   "pygments_lexer": "ipython3",
   "version": "3.8.3"
  },
  "orig_nbformat": 4,
  "vscode": {
   "interpreter": {
    "hash": "293a86114de2b527f4841e92ccaf4c0f0546eca717854d0f9954c911f4583ed7"
   }
  }
 },
 "nbformat": 4,
 "nbformat_minor": 2
}
